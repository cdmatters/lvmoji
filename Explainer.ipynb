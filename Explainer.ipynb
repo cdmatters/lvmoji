{
 "cells": [
  {
   "cell_type": "markdown",
   "metadata": {},
   "source": [
    "# Latent Variable Models\n",
    "\n",
    "\n",
    "## What is a latent variable model?\n",
    "\n",
    "**A latent variable model is a statistical model where your noisy observation variables depend on the values of hidden - \"latent\" - variables.**\n",
    "\n",
    "### Example\n",
    "Consider the population of hospital, where the $N$ patients  have taken $D$ measurements or tests (eg, body temperature, white blood cell count etc).  We can collect the $j$th patients's tests into a $D$ dimensional vector $$\\mathbf{y_j} = [y_{j1},y_{j2},...,y_{jD}], $$ and again collect these $j$ patients into rows of a matrix $$\\mathbf{Y} \\in \\mathbb{R}^{NxD} \\text{where} \\mathbf{Y}_{j,:} = \\mathbf{y_{j}} $$\n",
    "\n",
    "We may hypothesize that each set of a patients's results $\\mathbf{y_j}$ may be the noisy expression of a number of low level factors - ie what diseases they have - eg: do they have flu, chicken pox, typhoid, etc... We could group these into vector $\\mathbf{x_j}$, and again a matrix $\\mathbf{X}$\n",
    "\n",
    "So: we hypothesize our observations $\\mathbf{Y}$ are noisy (or probabilitisic) expressions of our latents $\\mathbf{X}$, such that our generative process for our data is:\n",
    "$$\\text{1. sample from prior: } P(\\mathbf{X})$$\n",
    "$$\\text{2. sample from conditional: } p(\\mathbf{Y}|\\mathbf{X})$$\n",
    "\n",
    "Our aim as statisticians may be to infer the most-likely latent state  $\\mathbf{x_j}$ for each patient's medical records $\\mathbf{y_j}$ - in this case so we give the correct treatment! In fact, if we wanted to be Bayesian, we might actually want to find the whole distribution $P(\\mathbf{x_j}|\\mathbf{y_j})$ to give the range of possible latent states for the observation.\n",
    "\n",
    "\n",
    "There are also a number of related reasons why may wish to infer the value of these latent variables and their mapping to observations: \n",
    "  * it may be easier to perform some tasks  (like classification etc) in this latent space\n",
    "  * it may help us generate new data artificially\n",
    "  * it may give us some understand or intuition about the world we are looking at\n",
    "  \n"
   ]
  },
  {
   "cell_type": "markdown",
   "metadata": {},
   "source": [
    "## PPCA and PCA\n",
    "\n",
    "A lot of people are familiar with Principle Components Analysis. This is the model where you take a cloud of data, subtract the mean, and axis align it to find the axes that explain the greatest variance. \n",
    "These 'principle components' can be considered the most 'informative' parts of the model, and a form of dimensionality reduction is only to take the leading 'k' axes of the data.\n",
    "\n",
    "What people may not be familiar with is this is exactly the same as a noise free case of a simple latent variable model. \n",
    "\n"
   ]
  },
  {
   "cell_type": "code",
   "execution_count": null,
   "metadata": {},
   "outputs": [],
   "source": []
  }
 ],
 "metadata": {
  "kernelspec": {
   "display_name": "lvmnist",
   "language": "python",
   "name": "lvmnist"
  },
  "language_info": {
   "codemirror_mode": {
    "name": "ipython",
    "version": 3
   },
   "file_extension": ".py",
   "mimetype": "text/x-python",
   "name": "python",
   "nbconvert_exporter": "python",
   "pygments_lexer": "ipython3",
   "version": "3.7.4"
  }
 },
 "nbformat": 4,
 "nbformat_minor": 2
}
